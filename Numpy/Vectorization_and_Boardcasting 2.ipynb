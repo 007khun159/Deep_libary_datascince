{
 "cells": [
  {
   "cell_type": "code",
   "execution_count": 1,
   "id": "179f4718",
   "metadata": {},
   "outputs": [
    {
     "name": "stdout",
     "output_type": "stream",
     "text": [
      "[[[  0   0]\n",
      "  [  2   3]\n",
      "  [  8  10]\n",
      "  [ 18  21]\n",
      "  [ 32  36]]\n",
      "\n",
      " [[  0   0]\n",
      "  [ 12  13]\n",
      "  [ 28  30]\n",
      "  [ 48  51]\n",
      "  [ 72  76]]\n",
      "\n",
      " [[  0   0]\n",
      "  [ 22  23]\n",
      "  [ 48  50]\n",
      "  [ 78  81]\n",
      "  [112 116]]\n",
      "\n",
      " [[  0   0]\n",
      "  [ 32  33]\n",
      "  [ 68  70]\n",
      "  [108 111]\n",
      "  [152 156]]\n",
      "\n",
      " [[  0   0]\n",
      "  [ 42  43]\n",
      "  [ 88  90]\n",
      "  [138 141]\n",
      "  [192 196]]]\n"
     ]
    }
   ],
   "source": [
    "import numpy as np \n",
    "\n",
    "a = np.arange(50).reshape(5,5,2)\n",
    "b = np.arange(5).reshape(5,1)\n",
    "\n",
    "c =a *b \n",
    "print(c)                                                                                                                                                           "
   ]
  },
  {
   "cell_type": "code",
   "execution_count": 2,
   "id": "566bfc35",
   "metadata": {},
   "outputs": [
    {
     "name": "stdout",
     "output_type": "stream",
     "text": [
      "[[[ 0  0  0  0  0]\n",
      "  [ 0  0  0  0  0]\n",
      "  [ 0  0  0  0  0]\n",
      "  [ 0  0  0  0  0]\n",
      "  [ 0  0  0  0  0]]\n",
      "\n",
      " [[ 0  1  2  3  4]\n",
      "  [ 5  6  7  8  9]\n",
      "  [10 11 12 13 14]\n",
      "  [15 16 17 18 19]\n",
      "  [20 21 22 23 24]]\n",
      "\n",
      " [[ 0  2  4  6  8]\n",
      "  [10 12 14 16 18]\n",
      "  [20 22 24 26 28]\n",
      "  [30 32 34 36 38]\n",
      "  [40 42 44 46 48]]\n",
      "\n",
      " [[ 0  3  6  9 12]\n",
      "  [15 18 21 24 27]\n",
      "  [30 33 36 39 42]\n",
      "  [45 48 51 54 57]\n",
      "  [60 63 66 69 72]]\n",
      "\n",
      " [[ 0  4  8 12 16]\n",
      "  [20 24 28 32 36]\n",
      "  [40 44 48 52 56]\n",
      "  [60 64 68 72 76]\n",
      "  [80 84 88 92 96]]]\n"
     ]
    }
   ],
   "source": [
    "#ถ้า ndarray 2 ตัวมีมิติที่ท่ากัน และจำนวนสมาชิกที่ต่างกัน \n",
    "\n",
    "import numpy as np \n",
    "a = np.arange(25).reshape(1,5,5)\n",
    "b = np.arange(5).reshape(5,1,1)\n",
    "\n",
    "c = a*b\n",
    "print(c)"
   ]
  },
  {
   "cell_type": "code",
   "execution_count": 5,
   "id": "0f980e13",
   "metadata": {},
   "outputs": [
    {
     "name": "stdout",
     "output_type": "stream",
     "text": [
      "[[  0  10  20]\n",
      " [ 30  40  50]\n",
      " [ 60  70  80]\n",
      " [ 90 100 110]]\n"
     ]
    }
   ],
   "source": [
    "#ถ้า ndarray 2 ตัวมีตัวใดตัวหนึ่งมีจำนวนสมาชิกเป็น1  \n",
    "import numpy as np \n",
    "\n",
    "a = np.arange(12).reshape(4,3)\n",
    "b= np.array([10])\n",
    "\n",
    "c = a*b\n",
    "print(c)"
   ]
  },
  {
   "cell_type": "code",
   "execution_count": 7,
   "id": "2dbd2001",
   "metadata": {},
   "outputs": [
    {
     "ename": "ValueError",
     "evalue": "operands could not be broadcast together with shapes (4,5) (10,2) ",
     "output_type": "error",
     "traceback": [
      "\u001b[1;31m---------------------------------------------------------------------------\u001b[0m",
      "\u001b[1;31mValueError\u001b[0m                                Traceback (most recent call last)",
      "Input \u001b[1;32mIn [7]\u001b[0m, in \u001b[0;36m<cell line: 7>\u001b[1;34m()\u001b[0m\n\u001b[0;32m      4\u001b[0m a \u001b[38;5;241m=\u001b[39m np\u001b[38;5;241m.\u001b[39marange(\u001b[38;5;241m20\u001b[39m)\u001b[38;5;241m.\u001b[39mreshape(\u001b[38;5;241m4\u001b[39m,\u001b[38;5;241m5\u001b[39m)\n\u001b[0;32m      5\u001b[0m b \u001b[38;5;241m=\u001b[39m np\u001b[38;5;241m.\u001b[39marange(\u001b[38;5;241m20\u001b[39m)\u001b[38;5;241m.\u001b[39mreshape(\u001b[38;5;241m10\u001b[39m,\u001b[38;5;241m2\u001b[39m)\n\u001b[1;32m----> 7\u001b[0m c \u001b[38;5;241m=\u001b[39m \u001b[43ma\u001b[49m\u001b[38;5;241;43m*\u001b[39;49m\u001b[43mb\u001b[49m\n\u001b[0;32m      8\u001b[0m \u001b[38;5;28mprint\u001b[39m(c)\n",
      "\u001b[1;31mValueError\u001b[0m: operands could not be broadcast together with shapes (4,5) (10,2) "
     ]
    }
   ],
   "source": [
    "# ndarray 2 ตัวไม่สามารถ operation กันได้\n",
    "import numpy as np \n",
    "\n",
    "a = np.arange(20).reshape(4,5)\n",
    "b = np.arange(20).reshape(10,2)\n",
    "\n",
    "c = a*b\n",
    "print(c)"
   ]
  },
  {
   "cell_type": "code",
   "execution_count": null,
   "id": "b12ec90a",
   "metadata": {},
   "outputs": [],
   "source": [
    "\n"
   ]
  }
 ],
 "metadata": {
  "kernelspec": {
   "display_name": "Python 3 (ipykernel)",
   "language": "python",
   "name": "python3"
  },
  "language_info": {
   "codemirror_mode": {
    "name": "ipython",
    "version": 3
   },
   "file_extension": ".py",
   "mimetype": "text/x-python",
   "name": "python",
   "nbconvert_exporter": "python",
   "pygments_lexer": "ipython3",
   "version": "3.9.12"
  }
 },
 "nbformat": 4,
 "nbformat_minor": 5
}
