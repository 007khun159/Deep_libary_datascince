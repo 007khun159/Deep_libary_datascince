{
 "cells": [
  {
   "cell_type": "code",
   "execution_count": 2,
   "id": "f608c294",
   "metadata": {},
   "outputs": [
    {
     "name": "stdout",
     "output_type": "stream",
     "text": [
      "[0 1 2 3 4 5 6 7 8 9] [ 3  4  5  6  7  8  9 10 11 12 13 14] [2 4 6 8] [0 1 2 3]\n",
      "[1. 2. 3. 4. 5. 6. 7. 8. 9.] [1. 3. 5. 7. 9.]\n"
     ]
    }
   ],
   "source": [
    "# arange([ค่าเริ่มต้น],[ค่าสุดท้าย],[ผลต่างระหว่างข้อมูล],[ประเภท])\n",
    "\n",
    "import numpy as np \n",
    "\n",
    "a = np.arange(10)\n",
    "b = np.arange(3,15)\n",
    "c = np.arange(2,10,2)\n",
    "d = np.arange(4,dtype=int)\n",
    "\n",
    "e = np.arange(1,10,dtype=float)\n",
    "f = np.arange(1,10,2,dtype=float)\n",
    "\n",
    "print(a,b,c,d)\n",
    "print(e,f)"
   ]
  },
  {
   "cell_type": "code",
   "execution_count": 4,
   "id": "6af6001c",
   "metadata": {},
   "outputs": [
    {
     "name": "stdout",
     "output_type": "stream",
     "text": [
      "[ 9. 11. 13. 15.] [-3 -2 -1  0  1] [] [5 3]\n"
     ]
    }
   ],
   "source": [
    "# what if \n",
    "\n",
    "a = np.arange(9,15.5,2)\n",
    "b = np.arange(-3,2)\n",
    "c = np.arange(5,2)\n",
    "d = np.arange(5,2,-2)\n",
    "\n",
    "print(a,b,c,d)"
   ]
  },
  {
   "cell_type": "code",
   "execution_count": null,
   "id": "b7da6cb4",
   "metadata": {},
   "outputs": [],
   "source": []
  }
 ],
 "metadata": {
  "kernelspec": {
   "display_name": "Python 3 (ipykernel)",
   "language": "python",
   "name": "python3"
  },
  "language_info": {
   "codemirror_mode": {
    "name": "ipython",
    "version": 3
   },
   "file_extension": ".py",
   "mimetype": "text/x-python",
   "name": "python",
   "nbconvert_exporter": "python",
   "pygments_lexer": "ipython3",
   "version": "3.9.12"
  }
 },
 "nbformat": 4,
 "nbformat_minor": 5
}
