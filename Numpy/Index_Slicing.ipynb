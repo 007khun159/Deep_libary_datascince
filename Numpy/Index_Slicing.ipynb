{
 "cells": [
  {
   "cell_type": "code",
   "execution_count": 3,
   "id": "36525273",
   "metadata": {},
   "outputs": [
    {
     "name": "stdout",
     "output_type": "stream",
     "text": [
      "[ 0  1  2  3  4  5  6  7  8  9 10 11]\n",
      "1. a=[2:7] [2 3 4 5 6]\n",
      "2. a=[:7] [0 1 2 3 4 5 6]\n",
      "3. a=[2:] [ 2  3  4  5  6  7  8  9 10 11]\n",
      "4. a=[2:7:3] [2 5]\n",
      "5. a=[::4] [0 4 8]\n",
      "5. a=[:-1:2] [ 0  2  4  6  8 10]\n",
      "5. a=[2::3] [ 2  5  8 11]\n"
     ]
    }
   ],
   "source": [
    "import numpy as np \n",
    "\n",
    "a = np.arange(12)\n",
    "\n",
    "print(a)\n",
    "print('1. a=[2:7]',a[2:7])\n",
    "print('2. a=[:7]',a[:7])\n",
    "print('3. a=[2:]',a[2:])\n",
    "print('4. a=[2:7:3]',a[2:7:3])  #ตั้งแต่ตัวที่2-7 ทีละ3ต่ำแหน่ง\n",
    "print('5. a=[::4]',a[::4]) # เริ่มที่0 ทีละ4ต่ำแหน่ง\n",
    "print('5. a=[:-1:2]',a[:-1:2]) \n",
    "print('5. a=[2::3]',a[2::3])"
   ]
  },
  {
   "cell_type": "code",
   "execution_count": 5,
   "id": "045ef4c3",
   "metadata": {},
   "outputs": [
    {
     "name": "stdout",
     "output_type": "stream",
     "text": [
      "[[[ 0  1]\n",
      "  [ 2  3]\n",
      "  [ 4  5]]\n",
      "\n",
      " [[ 6  7]\n",
      "  [ 8  9]\n",
      "  [10 11]]\n",
      "\n",
      " [[12 13]\n",
      "  [14 15]\n",
      "  [16 17]]\n",
      "\n",
      " [[18 19]\n",
      "  [20 21]\n",
      "  [22 23]]]\n",
      "a =\n",
      "a[1:3:2,::2]\n",
      "[[[ 6  7]\n",
      "  [10 11]]]\n"
     ]
    }
   ],
   "source": [
    "import numpy as np \n",
    "\n",
    "a = np.arange(24).reshape(4,3,2)\n",
    "print(a)\n",
    "print('a =')\n",
    "print('a[1:3:2,::2]')\n",
    "print(a[1:3:2,::2])"
   ]
  },
  {
   "cell_type": "code",
   "execution_count": null,
   "id": "9ea20544",
   "metadata": {},
   "outputs": [],
   "source": []
  }
 ],
 "metadata": {
  "kernelspec": {
   "display_name": "Python 3 (ipykernel)",
   "language": "python",
   "name": "python3"
  },
  "language_info": {
   "codemirror_mode": {
    "name": "ipython",
    "version": 3
   },
   "file_extension": ".py",
   "mimetype": "text/x-python",
   "name": "python",
   "nbconvert_exporter": "python",
   "pygments_lexer": "ipython3",
   "version": "3.9.12"
  }
 },
 "nbformat": 4,
 "nbformat_minor": 5
}
