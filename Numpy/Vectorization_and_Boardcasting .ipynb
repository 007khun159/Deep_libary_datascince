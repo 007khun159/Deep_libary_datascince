{
 "cells": [
  {
   "cell_type": "code",
   "execution_count": 1,
   "id": "189bb472",
   "metadata": {},
   "outputs": [
    {
     "name": "stdout",
     "output_type": "stream",
     "text": [
      "[ 1  2  3  4 30]\n"
     ]
    }
   ],
   "source": [
    "#Vectorization \n",
    "\n",
    "#จะทำการ Vectorazation หรือการดำเดินการ object ทั้งหมด\n",
    "\n",
    "import numpy as np \n",
    "\n",
    "a = np.array([1,2,3,4,5])\n",
    "b = np.array([1,1,1,1,6])\n",
    "\n",
    "c = a*b\n",
    "\n",
    "print(c)"
   ]
  },
  {
   "cell_type": "code",
   "execution_count": 3,
   "id": "b4808384",
   "metadata": {},
   "outputs": [
    {
     "name": "stdout",
     "output_type": "stream",
     "text": [
      "[ 2  4  6  8 10]\n"
     ]
    }
   ],
   "source": [
    "#Boardcasting \n",
    "#กระจายการทำซ้ำ\n",
    "import numpy as np \n",
    "\n",
    "a = np.array([1,2,3,4,5])\n",
    "b = np.array([2])\n",
    "\n",
    "c= a*b\n",
    "\n",
    "print(c)\n"
   ]
  },
  {
   "cell_type": "code",
   "execution_count": null,
   "id": "5af8c3e9",
   "metadata": {},
   "outputs": [],
   "source": []
  }
 ],
 "metadata": {
  "kernelspec": {
   "display_name": "Python 3 (ipykernel)",
   "language": "python",
   "name": "python3"
  },
  "language_info": {
   "codemirror_mode": {
    "name": "ipython",
    "version": 3
   },
   "file_extension": ".py",
   "mimetype": "text/x-python",
   "name": "python",
   "nbconvert_exporter": "python",
   "pygments_lexer": "ipython3",
   "version": "3.9.12"
  }
 },
 "nbformat": 4,
 "nbformat_minor": 5
}
