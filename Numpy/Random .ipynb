{
 "cells": [
  {
   "cell_type": "code",
   "execution_count": 16,
   "id": "e0d16f86",
   "metadata": {},
   "outputs": [
    {
     "name": "stdout",
     "output_type": "stream",
     "text": [
      "78\n"
     ]
    }
   ],
   "source": [
    "import numpy as np \n",
    "\n",
    "a = np.random.randint(100)\n",
    "print(a)    "
   ]
  },
  {
   "cell_type": "code",
   "execution_count": 17,
   "id": "1ac19385",
   "metadata": {},
   "outputs": [
    {
     "name": "stdout",
     "output_type": "stream",
     "text": [
      "45\n"
     ]
    }
   ],
   "source": [
    "# anothoer way\n",
    "from numpy  import random as rd \n",
    "\n",
    "a  = rd.randint(100)\n",
    "print(a)"
   ]
  },
  {
   "cell_type": "code",
   "execution_count": 20,
   "id": "fc3a489f",
   "metadata": {},
   "outputs": [],
   "source": [
    "from numpy import random as rd \n",
    "# ทำไม่ไดั\n",
    "#a = rd.randint()\n",
    "#b = rd.randint(10,5,3)\n",
    "\n",
    "#print(a)\n",
    "#print(b)"
   ]
  },
  {
   "cell_type": "code",
   "execution_count": 1,
   "id": "e78af169",
   "metadata": {},
   "outputs": [
    {
     "name": "stdout",
     "output_type": "stream",
     "text": [
      "[[[54 40 25]\n",
      "  [81 97 14]\n",
      "  [48 33 23]\n",
      "  [32 15  1]\n",
      "  [ 9 35  1]]\n",
      "\n",
      " [[47 70 48]\n",
      "  [64  3 75]\n",
      "  [76 15 89]\n",
      "  [30 68 17]\n",
      "  [63 30 73]]\n",
      "\n",
      " [[50 80 44]\n",
      "  [88 62 36]\n",
      "  [94 29 34]\n",
      "  [97  8 35]\n",
      "  [55 30 45]]\n",
      "\n",
      " [[94 80 51]\n",
      "  [71 50 26]\n",
      "  [ 0 76 59]\n",
      "  [25 60 50]\n",
      "  [63 60 42]]\n",
      "\n",
      " [[95 22 60]\n",
      "  [35 74 96]\n",
      "  [32 66 97]\n",
      "  [24 69 51]\n",
      "  [86 99 44]]\n",
      "\n",
      " [[19  6 53]\n",
      "  [95 48 48]\n",
      "  [ 3 32 23]\n",
      "  [29 92 32]\n",
      "  [ 5 94 28]]\n",
      "\n",
      " [[21 13 21]\n",
      "  [33 79 89]\n",
      "  [36  6 82]\n",
      "  [47 43 86]\n",
      "  [59 89 44]]\n",
      "\n",
      " [[91 87  5]\n",
      "  [33 67 44]\n",
      "  [35 58 32]\n",
      "  [33 75 80]\n",
      "  [34 71 23]]\n",
      "\n",
      " [[19 33 26]\n",
      "  [92 88 75]\n",
      "  [34 78 66]\n",
      "  [80 82 13]\n",
      "  [93 58 51]]\n",
      "\n",
      " [[83 18 42]\n",
      "  [47 18 36]\n",
      "  [43  1 30]\n",
      "  [62 34 31]\n",
      "  [39 17 94]]]\n"
     ]
    }
   ],
   "source": [
    "#randint([ค่าสูงที่สุด])\n",
    "#randint([ค่าสูงสุด],size = [จำนวนของมิติ ndarray ที่ต้องการ])\n",
    "\n",
    "from numpy  import random as rd\n",
    "\n",
    "a = rd.randint(100,size=(10,5,3))\n",
    "print(a)"
   ]
  },
  {
   "cell_type": "code",
   "execution_count": 3,
   "id": "2ee1d060",
   "metadata": {},
   "outputs": [
    {
     "name": "stdout",
     "output_type": "stream",
     "text": [
      "[0 5 8 2 1 6 3 7 4 9]\n"
     ]
    }
   ],
   "source": [
    "# shuffle random ต่ำแหน่งเขที่สุ่มอีกที\n",
    "\n",
    "\n",
    "from numpy  import random as rd \n",
    "import numpy  as np\n",
    "\n",
    "a = np.arange(10)\n",
    "rd.shuffle(a)\n",
    "\n",
    "print(a)"
   ]
  },
  {
   "cell_type": "code",
   "execution_count": null,
   "id": "1be50372",
   "metadata": {},
   "outputs": [],
   "source": []
  }
 ],
 "metadata": {
  "kernelspec": {
   "display_name": "Python 3 (ipykernel)",
   "language": "python",
   "name": "python3"
  },
  "language_info": {
   "codemirror_mode": {
    "name": "ipython",
    "version": 3
   },
   "file_extension": ".py",
   "mimetype": "text/x-python",
   "name": "python",
   "nbconvert_exporter": "python",
   "pygments_lexer": "ipython3",
   "version": "3.9.12"
  }
 },
 "nbformat": 4,
 "nbformat_minor": 5
}
