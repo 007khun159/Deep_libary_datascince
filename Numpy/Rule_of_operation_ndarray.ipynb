{
 "cells": [
  {
   "cell_type": "code",
   "execution_count": 2,
   "id": "b5eeef56",
   "metadata": {},
   "outputs": [
    {
     "name": "stdout",
     "output_type": "stream",
     "text": [
      "[[ 0  1  2  3  4  5  6  7  8  9]\n",
      " [10 11 12 13 14 15 16 17 18 19]\n",
      " [20 21 22 23 24 25 26 27 28 29]\n",
      " [30 31 32 33 34 35 36 37 38 39]\n",
      " [40 41 42 43 44 45 46 47 48 49]]\n"
     ]
    }
   ],
   "source": [
    "import numpy as np \n",
    "# reshape สร้างมิติ 5x10\n",
    "a = np.arange(50).reshape(5,10)\n",
    "print(a)"
   ]
  },
  {
   "cell_type": "code",
   "execution_count": 4,
   "id": "c164b19a",
   "metadata": {},
   "outputs": [
    {
     "name": "stdout",
     "output_type": "stream",
     "text": [
      "[[0]\n",
      " [1]\n",
      " [2]\n",
      " [3]\n",
      " [4]]\n"
     ]
    }
   ],
   "source": [
    "import numpy as np \n",
    "# reshape สร้างมิติ 5x1\n",
    "a = np.arange(5).reshape(5,1)\n",
    "print(a)"
   ]
  },
  {
   "cell_type": "code",
   "execution_count": 6,
   "id": "0a1e279c",
   "metadata": {},
   "outputs": [
    {
     "name": "stdout",
     "output_type": "stream",
     "text": [
      "[[[  0   0]\n",
      "  [  0   0]\n",
      "  [  0   0]\n",
      "  [  0   0]\n",
      "  [  0   0]\n",
      "  [  0   0]\n",
      "  [  0   0]\n",
      "  [  0   0]\n",
      "  [  0   0]\n",
      "  [  0   0]]\n",
      "\n",
      " [[ 20  21]\n",
      "  [ 22  23]\n",
      "  [ 24  25]\n",
      "  [ 26  27]\n",
      "  [ 28  29]\n",
      "  [ 30  31]\n",
      "  [ 32  33]\n",
      "  [ 34  35]\n",
      "  [ 36  37]\n",
      "  [ 38  39]]\n",
      "\n",
      " [[ 80  82]\n",
      "  [ 84  86]\n",
      "  [ 88  90]\n",
      "  [ 92  94]\n",
      "  [ 96  98]\n",
      "  [100 102]\n",
      "  [104 106]\n",
      "  [108 110]\n",
      "  [112 114]\n",
      "  [116 118]]\n",
      "\n",
      " [[180 183]\n",
      "  [186 189]\n",
      "  [192 195]\n",
      "  [198 201]\n",
      "  [204 207]\n",
      "  [210 213]\n",
      "  [216 219]\n",
      "  [222 225]\n",
      "  [228 231]\n",
      "  [234 237]]\n",
      "\n",
      " [[320 324]\n",
      "  [328 332]\n",
      "  [336 340]\n",
      "  [344 348]\n",
      "  [352 356]\n",
      "  [360 364]\n",
      "  [368 372]\n",
      "  [376 380]\n",
      "  [384 388]\n",
      "  [392 396]]]\n"
     ]
    }
   ],
   "source": [
    "import numpy as np \n",
    "a = np.arange(100).reshape(5,10,2)\n",
    "b = np.arange(5).reshape(5,1,1)\n",
    "\n",
    "c = a*b\n",
    "\n",
    "print(c)"
   ]
  },
  {
   "cell_type": "code",
   "execution_count": 7,
   "id": "83d96a1e",
   "metadata": {},
   "outputs": [
    {
     "name": "stdout",
     "output_type": "stream",
     "text": [
      "[[[  0   1]\n",
      "  [  4   9]\n",
      "  [ 16  25]\n",
      "  [ 36  49]\n",
      "  [ 64  81]]\n",
      "\n",
      " [[  0  11]\n",
      "  [ 24  39]\n",
      "  [ 56  75]\n",
      "  [ 96 119]\n",
      "  [144 171]]\n",
      "\n",
      " [[  0  21]\n",
      "  [ 44  69]\n",
      "  [ 96 125]\n",
      "  [156 189]\n",
      "  [224 261]]\n",
      "\n",
      " [[  0  31]\n",
      "  [ 64  99]\n",
      "  [136 175]\n",
      "  [216 259]\n",
      "  [304 351]]\n",
      "\n",
      " [[  0  41]\n",
      "  [ 84 129]\n",
      "  [176 225]\n",
      "  [276 329]\n",
      "  [384 441]]]\n"
     ]
    }
   ],
   "source": [
    "import numpy as np \n",
    "\n",
    "a = np.arange(50).reshape(5,5,2)\n",
    "b = np.arange(10).reshape(5,2)\n",
    "\n",
    "c =a*b\n",
    "print(c)"
   ]
  },
  {
   "cell_type": "code",
   "execution_count": null,
   "id": "3e094af8",
   "metadata": {},
   "outputs": [],
   "source": []
  }
 ],
 "metadata": {
  "kernelspec": {
   "display_name": "Python 3 (ipykernel)",
   "language": "python",
   "name": "python3"
  },
  "language_info": {
   "codemirror_mode": {
    "name": "ipython",
    "version": 3
   },
   "file_extension": ".py",
   "mimetype": "text/x-python",
   "name": "python",
   "nbconvert_exporter": "python",
   "pygments_lexer": "ipython3",
   "version": "3.9.12"
  }
 },
 "nbformat": 4,
 "nbformat_minor": 5
}
