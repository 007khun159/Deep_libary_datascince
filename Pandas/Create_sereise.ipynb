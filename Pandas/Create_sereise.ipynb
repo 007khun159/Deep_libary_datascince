{
 "cells": [
  {
   "cell_type": "code",
   "execution_count": 2,
   "id": "ce2e102b",
   "metadata": {},
   "outputs": [
    {
     "name": "stdout",
     "output_type": "stream",
     "text": [
      "0    3.83\n",
      "1    4.00\n",
      "2    2.98\n",
      "3    3.00\n",
      "4    2.80\n",
      "Name: Series1, dtype: float64\n",
      "\n",
      "0     98\n",
      "1    100\n",
      "2     78\n",
      "3     80\n",
      "4     70\n",
      "dtype: int64\n"
     ]
    }
   ],
   "source": [
    "# pd.Series(data,index,dtype,name)\n",
    "\n",
    "import pandas as pd \n",
    "\n",
    "list_data = [3.83,4.00,2.98,3.00,2.80]\n",
    "#สร้างข้อมูลแบบ Series จาก list\n",
    "series1 = pd.Series(list_data,name='Series1')\n",
    "print(series1)\n",
    "print()\n",
    "\n",
    "series2 = pd.Series([98,100,78,80,70])\n",
    "print(series2)"
   ]
  },
  {
   "cell_type": "code",
   "execution_count": 4,
   "id": "1fce5c6a",
   "metadata": {},
   "outputs": [
    {
     "name": "stdout",
     "output_type": "stream",
     "text": [
      "A    3.83\n",
      "A    4.00\n",
      "B    2.98\n",
      "A    3.00\n",
      "B    2.80\n",
      "dtype: float64\n"
     ]
    }
   ],
   "source": [
    "#สร้างข้อมูลแบบ series โดยกำหนด index ให้\n",
    "\n",
    "import pandas as pd \n",
    "list_data = [3.83,4.00,2.98,3.00,2.80]\n",
    "series1 =pd.Series(list_data,index=['A','A','B','A','B'])\n",
    "print(series1)"
   ]
  },
  {
   "cell_type": "code",
   "execution_count": 7,
   "id": "11c6d57c",
   "metadata": {},
   "outputs": [
    {
     "name": "stdout",
     "output_type": "stream",
     "text": [
      "0      red\n",
      "1    green\n",
      "2    green\n",
      "3     blue\n",
      "4     blue\n",
      "5     pink\n",
      "6     blue\n",
      "Name: Color, dtype: category\n",
      "Categories (4, object): ['blue', 'green', 'pink', 'red']\n"
     ]
    }
   ],
   "source": [
    "#สร้างข้อมูลแบบ series โดยกำหนด dtype ให้\n",
    "\n",
    "tuple_data = ['red','green','green','blue','blue','pink','blue']\n",
    "series1 = pd.Series(tuple_data,dtype='category',name='Color')\n",
    "print(series1)"
   ]
  },
  {
   "cell_type": "code",
   "execution_count": 8,
   "id": "fb298e65",
   "metadata": {},
   "outputs": [
    {
     "name": "stdout",
     "output_type": "stream",
     "text": [
      "r      red\n",
      "g    green\n",
      "b     blue\n",
      "p     pink\n",
      "Name: color, dtype: object\n"
     ]
    }
   ],
   "source": [
    "#สร้างข้อมูลแบบ series จาก tuple\n",
    "\n",
    "import pandas as pd \n",
    "tuple_data =('red','green','blue','pink')\n",
    "series1 = pd.Series(tuple_data,index=['r','g','b','p'],name='color')\n",
    "print(series1)"
   ]
  },
  {
   "cell_type": "code",
   "execution_count": 9,
   "id": "bcddcc1a",
   "metadata": {},
   "outputs": [
    {
     "name": "stdout",
     "output_type": "stream",
     "text": [
      "Mon       Monday\n",
      "Tue      Tuesday\n",
      "Wed    Wednesday\n",
      "Thu     Thursday\n",
      "Fri       Friday\n",
      "Sat     Saturday\n",
      "Sun       Sunday\n",
      "dtype: object\n"
     ]
    }
   ],
   "source": [
    "#สร้างข้อมูลแบบ series จาก tuple\n",
    "import pandas as pd \n",
    "\n",
    "dict_data = {'Mon':'Monday','Tue':'Tuesday','Wed':'Wednesday',\n",
    "             'Thu':'Thursday','Fri':'Friday','Sat':'Saturday','Sun':'Sunday'}\n",
    "\n",
    "series1 = pd.Series(dict_data)\n",
    "print(series1)"
   ]
  },
  {
   "cell_type": "code",
   "execution_count": 11,
   "id": "f14451d1",
   "metadata": {},
   "outputs": [
    {
     "name": "stdout",
     "output_type": "stream",
     "text": [
      "0    10\n",
      "1    20\n",
      "2    30\n",
      "3    40\n",
      "4    50\n",
      "dtype: int32\n"
     ]
    }
   ],
   "source": [
    "#สร้างข้อมูลแบบ series จาก ndarray ของ numpy\n",
    "\n",
    "import numpy as np\n",
    "import pandas as pd \n",
    "\n",
    "\n",
    "ndarray_data = np.array([10,20,30,40,50])\n",
    "series1 = pd.Series(ndarray_data)\n",
    "print(series1)"
   ]
  },
  {
   "cell_type": "code",
   "execution_count": null,
   "id": "19c1e72d",
   "metadata": {},
   "outputs": [],
   "source": []
  }
 ],
 "metadata": {
  "kernelspec": {
   "display_name": "Python 3 (ipykernel)",
   "language": "python",
   "name": "python3"
  },
  "language_info": {
   "codemirror_mode": {
    "name": "ipython",
    "version": 3
   },
   "file_extension": ".py",
   "mimetype": "text/x-python",
   "name": "python",
   "nbconvert_exporter": "python",
   "pygments_lexer": "ipython3",
   "version": "3.9.12"
  }
 },
 "nbformat": 4,
 "nbformat_minor": 5
}
