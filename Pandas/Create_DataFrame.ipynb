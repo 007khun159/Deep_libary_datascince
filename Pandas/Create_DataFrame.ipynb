{
 "cells": [
  {
   "cell_type": "code",
   "execution_count": 1,
   "id": "16e50b3e",
   "metadata": {},
   "outputs": [
    {
     "name": "stdout",
     "output_type": "stream",
     "text": [
      "     ชื่อ\n",
      "0   สมชาย\n",
      "1  สมหญิง\n",
      "2    สมใจ\n"
     ]
    }
   ],
   "source": [
    "#pandas.DataFrame(data,index,colums,dtype)\n",
    "\n",
    "import pandas as pd \n",
    "\n",
    "name_series = pd.Series(['สมชาย','สมหญิง','สมใจ'])\n",
    "df = pd.DataFrame(name_series,columns=['ชื่อ'])\n",
    "print(df)"
   ]
  },
  {
   "cell_type": "code",
   "execution_count": 7,
   "id": "e2717f8e",
   "metadata": {},
   "outputs": [
    {
     "name": "stdout",
     "output_type": "stream",
     "text": [
      "     ชื่อ  นามสกุล  อายุ\n",
      "0   สมชาย  รักธรรม    18\n",
      "1  สมหญิง     ใจดี    19\n",
      "2    สมใจ    ใฝ่ดี    20\n"
     ]
    }
   ],
   "source": [
    "#สร้าง DataFrame หลายๆชุดจาก Series\n",
    "\n",
    "import pandas as pd \n",
    "\n",
    "#สร้าง series\n",
    "name_series = pd.Series(['สมชาย','สมหญิง','สมใจ'])\n",
    "surname_series = pd.Series(['รักธรรม','ใจดี','ใฝ่ดี'])\n",
    "age_series = pd.Series([18,19,20])\n",
    "\n",
    "\n",
    "# นำข้อมูลจาก Series มาทำDataFrame\n",
    "name_df = pd.DataFrame(name_series,columns=['ชื่อ'])\n",
    "surename_df = pd.DataFrame(surname_series,columns=['นามสกุล'])\n",
    "age_df = pd.DataFrame(age_series,columns=['อายุ'])\n",
    "\n",
    "#นำข้อมูลมาต่อกัน\n",
    "df = pd.concat([name_df,surename_df,age_df],axis=1)\n",
    "print(df)"
   ]
  },
  {
   "cell_type": "code",
   "execution_count": 8,
   "id": "e636ad5e",
   "metadata": {},
   "outputs": [
    {
     "name": "stdout",
     "output_type": "stream",
     "text": [
      "     ชื่อ  นามสกุล  อายุ\n",
      "0   สมชาย      NaN   NaN\n",
      "1  สมหญิง      NaN   NaN\n",
      "2    สมใจ      NaN   NaN\n",
      "0     NaN  รักธรรม   NaN\n",
      "1     NaN     ใจดี   NaN\n",
      "2     NaN    ใฝ่ดี   NaN\n",
      "0     NaN      NaN  18.0\n",
      "1     NaN      NaN  19.0\n",
      "2     NaN      NaN  20.0\n"
     ]
    }
   ],
   "source": [
    "#สร้าง DataFrame หลายๆชุดจาก Series\n",
    "\n",
    "import pandas as pd \n",
    "\n",
    "#สร้าง series\n",
    "name_series = pd.Series(['สมชาย','สมหญิง','สมใจ'])\n",
    "surname_series = pd.Series(['รักธรรม','ใจดี','ใฝ่ดี'])\n",
    "age_series = pd.Series([18,19,20])\n",
    "\n",
    "\n",
    "# นำข้อมูลจาก Series มาทำDataFrame\n",
    "name_df = pd.DataFrame(name_series,columns=['ชื่อ'])\n",
    "surename_df = pd.DataFrame(surname_series,columns=['นามสกุล'])\n",
    "age_df = pd.DataFrame(age_series,columns=['อายุ'])\n",
    "\n",
    "#นำข้อมูลมาต่อกัน\n",
    "df = pd.concat([name_df,surename_df,age_df],axis=0)\n",
    "print(df)"
   ]
  },
  {
   "cell_type": "code",
   "execution_count": 9,
   "id": "a71d510b",
   "metadata": {},
   "outputs": [
    {
     "name": "stdout",
     "output_type": "stream",
     "text": [
      "        ชือ  เงินเดือน\n",
      "0     นายเอ      18000\n",
      "1  นางสาวบี      25000\n",
      "2     นายซี      35000\n"
     ]
    }
   ],
   "source": [
    "#สร้าง DataFrame หลายๆชุดจาก list\n",
    "import pandas as pd \n",
    "\n",
    "data = [[\"นายเอ\", 18000], [\"นางสาวบี\", 25000], [\"นายซี\", 35000]]\n",
    "df = pd.DataFrame(data,columns=['ชือ','เงินเดือน'])\n",
    "print(df)"
   ]
  },
  {
   "cell_type": "code",
   "execution_count": 10,
   "id": "62c63994",
   "metadata": {},
   "outputs": [
    {
     "name": "stdout",
     "output_type": "stream",
     "text": [
      "       ชื่อ  เงินเดือน\n",
      "0     นายเอ      18000\n",
      "1  นางสาวบี      25000\n",
      "2     นายซี      35000\n"
     ]
    }
   ],
   "source": [
    "#สร้าง DataFrame หลายๆชุดจาก list\n",
    "import pandas as pd\n",
    "\n",
    "\n",
    "data = [{\"ชื่อ\" : \"นายเอ\", \"เงินเดือน\" : 18000}, {\"ชื่อ\" : \"นางสาวบี\", \"เงินเดือน\" : 25000}, {\"ชื่อ\" : \"นายซี\", \"เงินเดือน\" : 35000}]\n",
    "\n",
    "df = pd.DataFrame(data)\n",
    "print(df)"
   ]
  },
  {
   "cell_type": "code",
   "execution_count": 11,
   "id": "0c450f02",
   "metadata": {},
   "outputs": [
    {
     "name": "stdout",
     "output_type": "stream",
     "text": [
      "       ชื่อ  เงินเดือน\n",
      "0     นายเอ      18000\n",
      "1  นางสาวบี      25000\n",
      "2     นายซี      35000\n"
     ]
    }
   ],
   "source": [
    "import pandas as pd\n",
    "\n",
    "name = [\"นายเอ\", \"นางสาวบี\", \"นายซี\"]\n",
    "salary = [18000,25000,35000]\n",
    "\n",
    "# สร้างดิกชันนารีจากลิสต์\n",
    "data = {\"ชื่อ\":name,\"เงินเดือน\":salary}\n",
    "\n",
    "#สร้าง dictionary โดยกำหนด key เป็นคอลัมและ value เป็นข้อมูลจาก list \n",
    "data = {'ชื่อ':name,'เงินเดือน':salary}\n",
    "\n",
    "df= pd.DataFrame(data)\n",
    "print(df)"
   ]
  },
  {
   "cell_type": "code",
   "execution_count": 14,
   "id": "b209eb7b",
   "metadata": {},
   "outputs": [
    {
     "name": "stdout",
     "output_type": "stream",
     "text": [
      "              ชื่อ  นามสกุล  เกรด\n",
      "001      ด.ช.สมชาย     ใสดี  3.83\n",
      "002       ด.ญ.สมใจ  เรียนดี  2.82\n",
      "003     ด.ญ.แก้มใส  วินียดี   3.5\n",
      "004  ด.ช.สมเกียรติ   รักไทย  2.95\n",
      "005     ด.ญ.สมหญิง  ถิ่นไทย  2.68\n"
     ]
    }
   ],
   "source": [
    "#สร้าง Dataframe จาก ndarray ของ numpy\n",
    "import pandas as pd\n",
    "import numpy as np\n",
    "\n",
    "# สร้าง ndarray ของ Numpy\n",
    "array = np.array([[\"ด.ช.สมชาย\", \"ใสดี\", 3.83], [\"ด.ญ.สมใจ\", \"เรียนดี\", 2.82],\n",
    "                  [\"ด.ญ.แก้มใส\", \"วินียดี\", 3.50], [\"ด.ช.สมเกียรติ\", \"รักไทย\", 2.95],\n",
    "                  [\"ด.ญ.สมหญิง\", \"ถิ่นไทย\", 2.68]])\n",
    "\n",
    "# สร้างลิสต์ของ index\n",
    "index_values = [\"001\", \"002\", \"003\", \"004\", \"005\"]\n",
    "\n",
    "# สร้างลิสต์ของชื่อคอลัมน์\n",
    "column_values = [\"ชื่อ\", \"นามสกุล\", \"เกรด\"]\n",
    "\n",
    "df = pd.DataFrame(data=array, index=index_values, columns=column_values)\n",
    "print(df) "
   ]
  },
  {
   "cell_type": "code",
   "execution_count": null,
   "id": "3d069162",
   "metadata": {},
   "outputs": [],
   "source": []
  },
  {
   "cell_type": "code",
   "execution_count": null,
   "id": "5d5d10f9",
   "metadata": {},
   "outputs": [],
   "source": []
  }
 ],
 "metadata": {
  "kernelspec": {
   "display_name": "Python 3 (ipykernel)",
   "language": "python",
   "name": "python3"
  },
  "language_info": {
   "codemirror_mode": {
    "name": "ipython",
    "version": 3
   },
   "file_extension": ".py",
   "mimetype": "text/x-python",
   "name": "python",
   "nbconvert_exporter": "python",
   "pygments_lexer": "ipython3",
   "version": "3.9.12"
  }
 },
 "nbformat": 4,
 "nbformat_minor": 5
}
